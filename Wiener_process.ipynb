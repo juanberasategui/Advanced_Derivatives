{
 "cells": [
  {
   "cell_type": "code",
   "execution_count": 65,
   "metadata": {},
   "outputs": [],
   "source": [
    "import numpy as np\n",
    "import matplotlib.pyplot as plt\n",
    "import scipy\n",
    "import math\n",
    "import pandas as pd"
   ]
  },
  {
   "cell_type": "code",
   "execution_count": 13,
   "metadata": {},
   "outputs": [],
   "source": [
    "#We set the seed for reproducibility\n",
    "np.random.seed(1)"
   ]
  },
  {
   "cell_type": "code",
   "execution_count": 23,
   "metadata": {},
   "outputs": [],
   "source": [
    "S0 = 100 # initial stock price\n",
    "mu= 0.1 # drift term\n",
    "sigma = 0.25 # volatility/dispersion term\n",
    "T = 5 # time horizon\n",
    "N = 5000 # number of time steps"
   ]
  },
  {
   "attachments": {},
   "cell_type": "markdown",
   "metadata": {},
   "source": [
    "We create two variables vectors U1 & U2 with N numbers between [0,1] in a uniform distribution"
   ]
  },
  {
   "cell_type": "code",
   "execution_count": 75,
   "metadata": {},
   "outputs": [
    {
     "data": {
      "image/png": "[encoded data removed]",
      "text/plain": [
       "<Figure size 432x288 with 1 Axes>"
      ]
     },
     "metadata": {
      "needs_background": "light"
     },
     "output_type": "display_data"
    }
   ],
   "source": [
    "U1 = np.random.rand(N) # uniform random numbers\n",
    "U2 = np.random.rand(N) # uniform random numbers\n",
    "plt.hist(U1,density=True, edgecolor='black', alpha=0.7)\n",
    "plt.show()"
   ]
  },
  {
   "attachments": {},
   "cell_type": "markdown",
   "metadata": {},
   "source": [
    "Box-Müller transformation of U1 & U2 which results in a vector with random N numbers\n",
    "in a standard normal distribution"
   ]
  },
  {
   "cell_type": "code",
   "execution_count": 25,
   "metadata": {},
   "outputs": [],
   "source": [
    "X1 = np.sqrt(-2*np.log(U1))*np.cos(2*np.pi*U2) # standard normal random numbers\n",
    "#or\n",
    "X2 = np.sqrt(-2*np.log(U1))*np.sin(2*np.pi*U2) # standard normal random numbers"
   ]
  },
  {
   "cell_type": "code",
   "execution_count": 73,
   "metadata": {},
   "outputs": [
    {
     "data": {
      "image/png": "[encoded data removed]",
      "text/plain": [
       "<Figure size 432x288 with 1 Axes>"
      ]
     },
     "metadata": {
      "needs_background": "light"
     },
     "output_type": "display_data"
    }
   ],
   "source": [
    "#We plot X1 to check that it is normally distributed\n",
    "plt.hist(X1, bins=np.arange(-5, 5, 0.1),density=True, edgecolor='black', alpha=0.7)\n",
    "plt.show()"
   ]
  },
  {
   "attachments": {},
   "cell_type": "markdown",
   "metadata": {},
   "source": [
    "Compare the empirical density function with the true normal density function function"
   ]
  },
  {
   "cell_type": "code",
   "execution_count": 72,
   "metadata": {},
   "outputs": [
    {
     "data": {
      "image/png": "[encoded data removed]",
      "text/plain": [
       "<Figure size 432x288 with 1 Axes>"
      ]
     },
     "metadata": {
      "needs_background": "light"
     },
     "output_type": "display_data"
    }
   ],
   "source": [
    "plt.hist(X1, bins=np.arange(-5, 5, 0.1), density=True, edgecolor='black', alpha=0.7)\n",
    "x1 = np.arange(-5, 5, 0.1)\n",
    "plt.plot(x1, scipy.stats.norm.pdf(x1))\n",
    "plt.show()"
   ]
  },
  {
   "attachments": {},
   "cell_type": "markdown",
   "metadata": {},
   "source": [
    "Compute the mean and variance of X1, which should be close to mean=0 and variance= 1, as N~(0,1)\n",
    "\n",
    "The difference lies in the N parameter, the larger N, the closer we should get the the standard mean and variance values of 0 and 1"
   ]
  },
  {
   "cell_type": "code",
   "execution_count": 28,
   "metadata": {},
   "outputs": [
    {
     "name": "stdout",
     "output_type": "stream",
     "text": [
      "-0.004157083004382528 1.0301269332113634\n"
     ]
    }
   ],
   "source": [
    "mean = np.mean(X1)\n",
    "var = np.var(X1)\n",
    "print(mean, var)"
   ]
  },
  {
   "attachments": {},
   "cell_type": "markdown",
   "metadata": {},
   "source": [
    "Now calculate stock prices (ST)"
   ]
  },
  {
   "cell_type": "code",
   "execution_count": 39,
   "metadata": {},
   "outputs": [
    {
     "data": {
      "text/plain": [
       "array([182.8006409 , 111.46784259, 246.15628646,  66.39516682,\n",
       "       279.20646683, 253.57720866, 125.13348449, 127.73865142,\n",
       "       265.2023883 ,  72.7126635 ])"
      ]
     },
     "execution_count": 39,
     "metadata": {},
     "output_type": "execute_result"
    }
   ],
   "source": [
    "ST = S0*np.exp((mu-(sigma**2)/2)*T + sigma*np.sqrt(T)*X1) # stock price at time T\n",
    "\n",
    "ST[0:10]#print the first 10 elements of ST\n"
   ]
  },
  {
   "cell_type": "code",
   "execution_count": 55,
   "metadata": {},
   "outputs": [
    {
     "name": "stdout",
     "output_type": "stream",
     "text": [
      "165.2722011858382 102.31377893497658\n"
     ]
    }
   ],
   "source": [
    "np.mean(ST)\n",
    "np.std(ST)\n",
    "\n",
    "print(np.mean(ST), np.std(ST))\n"
   ]
  },
  {
   "attachments": {},
   "cell_type": "markdown",
   "metadata": {},
   "source": [
    "Comparing the above (sample moments) with the true moments we should get a similar number"
   ]
  },
  {
   "cell_type": "code",
   "execution_count": 57,
   "metadata": {},
   "outputs": [
    {
     "name": "stdout",
     "output_type": "stream",
     "text": [
      "164.87212707001282 99.85834514361125\n"
     ]
    }
   ],
   "source": [
    "mST = S0 * math.exp(mu * T) #true moments mean\n",
    "vST = S0 ** 2 * math.exp(2 * mu * T) * (math.exp(sigma ** 2 * T) - 1) #true moments variance\n",
    "sdST = np.sqrt(vST) #true moments standard deviation\n",
    "\n",
    "print(mST,sdST)"
   ]
  },
  {
   "attachments": {},
   "cell_type": "markdown",
   "metadata": {},
   "source": [
    "Summary stats from our predicted stock prices"
   ]
  },
  {
   "cell_type": "code",
   "execution_count": 66,
   "metadata": {},
   "outputs": [
    {
     "data": {
      "text/html": [
       "<div>\n",
       "<style scoped>\n",
       "    .dataframe tbody tr th:only-of-type {\n",
       "        vertical-align: middle;\n",
       "    }\n",
       "\n",
       "    .dataframe tbody tr th {\n",
       "        vertical-align: top;\n",
       "    }\n",
       "\n",
       "    .dataframe thead th {\n",
       "        text-align: right;\n",
       "    }\n",
       "</style>\n",
       "<table border=\"1\" class=\"dataframe\">\n",
       "  <thead>\n",
       "    <tr style=\"text-align: right;\">\n",
       "      <th></th>\n",
       "      <th>0</th>\n",
       "    </tr>\n",
       "  </thead>\n",
       "  <tbody>\n",
       "    <tr>\n",
       "      <th>count</th>\n",
       "      <td>5000.000000</td>\n",
       "    </tr>\n",
       "    <tr>\n",
       "      <th>mean</th>\n",
       "      <td>165.272201</td>\n",
       "    </tr>\n",
       "    <tr>\n",
       "      <th>std</th>\n",
       "      <td>102.324012</td>\n",
       "    </tr>\n",
       "    <tr>\n",
       "      <th>min</th>\n",
       "      <td>17.303113</td>\n",
       "    </tr>\n",
       "    <tr>\n",
       "      <th>25%</th>\n",
       "      <td>96.459256</td>\n",
       "    </tr>\n",
       "    <tr>\n",
       "      <th>50%</th>\n",
       "      <td>140.957529</td>\n",
       "    </tr>\n",
       "    <tr>\n",
       "      <th>75%</th>\n",
       "      <td>206.049268</td>\n",
       "    </tr>\n",
       "    <tr>\n",
       "      <th>max</th>\n",
       "      <td>1156.955274</td>\n",
       "    </tr>\n",
       "  </tbody>\n",
       "</table>\n",
       "</div>"
      ],
      "text/plain": [
       "                 0\n",
       "count  5000.000000\n",
       "mean    165.272201\n",
       "std     102.324012\n",
       "min      17.303113\n",
       "25%      96.459256\n",
       "50%     140.957529\n",
       "75%     206.049268\n",
       "max    1156.955274"
      ]
     },
     "execution_count": 66,
     "metadata": {},
     "output_type": "execute_result"
    }
   ],
   "source": [
    "scipy.stats.describe(ST) \n",
    "\n",
    "#one can also get the summary statistics by trasnforming the array to a pandas\n",
    "# dataframe and using the describe function in pandas package\n",
    "\n",
    "df = pd.DataFrame(ST)\n",
    "df.describe()"
   ]
  },
  {
   "attachments": {},
   "cell_type": "markdown",
   "metadata": {},
   "source": [
    "We plot the histogram of the simulated stock price and "
   ]
  },
  {
   "cell_type": "code",
   "execution_count": 71,
   "metadata": {},
   "outputs": [
    {
     "data": {
      "image/png": "[encoded data removed]",
      "text/plain": [
       "<Figure size 432x288 with 1 Axes>"
      ]
     },
     "metadata": {
      "needs_background": "light"
     },
     "output_type": "display_data"
    }
   ],
   "source": [
    "\n",
    "plt.hist(ST,density=True, edgecolor='black', alpha=0.7)\n",
    "plt.show()\n"
   ]
  },
  {
   "attachments": {},
   "cell_type": "markdown",
   "metadata": {},
   "source": [
    "Now we cap the distribution at 800, and plot it againts the normal distribution line, we see that the left tail is trimmed, as the prices dont go negative. Also, apex of out ST distribution does not match the normal distribution line"
   ]
  },
  {
   "cell_type": "code",
   "execution_count": 70,
   "metadata": {},
   "outputs": [
    {
     "data": {
      "image/png": "[encoded data removed]",
      "text/plain": [
       "<Figure size 432x288 with 1 Axes>"
      ]
     },
     "metadata": {
      "needs_background": "light"
     },
     "output_type": "display_data"
    }
   ],
   "source": [
    "# Create a histogram of the ST array\n",
    "n, bins, patches = plt.hist(ST, bins=100, density=True, edgecolor='black', alpha=0.7)\n",
    "\n",
    "# Create a sequence of values for s1\n",
    "s1 = np.arange(0, 800, 8)\n",
    "\n",
    "# Plot a line on the histogram, representing the normal distribution with mean mST and standard deviation sdST\n",
    "plt.plot(s1, scipy.stats.norm.pdf(s1, mST, sdST),'r')\n",
    "\n",
    "# Display the plot\n",
    "plt.show()"
   ]
  },
  {
   "attachments": {},
   "cell_type": "markdown",
   "metadata": {},
   "source": [
    "Now, we compare the empirical density for ST with the theoretically correct log-normal density function. \n",
    "We will see that the log-normal density function is a better fit for the empirical density function"
   ]
  },
  {
   "cell_type": "code",
   "execution_count": 77,
   "metadata": {},
   "outputs": [
    {
     "name": "stderr",
     "output_type": "stream",
     "text": [
      "<ipython-input-77-f77d028df077>:4: RuntimeWarning: divide by zero encountered in log\n",
      "  plt.plot(s1, np.exp(-(np.log(s1) - m)**2/2/s**2)/s/np.sqrt(2*np.pi)/s1, color='red')\n",
      "<ipython-input-77-f77d028df077>:4: RuntimeWarning: invalid value encountered in divide\n",
      "  plt.plot(s1, np.exp(-(np.log(s1) - m)**2/2/s**2)/s/np.sqrt(2*np.pi)/s1, color='red')\n"
     ]
    },
    {
     "data": {
      "image/png": "[encoded data removed]",
      "text/plain": [
       "<Figure size 432x288 with 1 Axes>"
      ]
     },
     "metadata": {
      "needs_background": "light"
     },
     "output_type": "display_data"
    }
   ],
   "source": [
    "\n",
    "s = np.sqrt(np.log(vST/mST**2+1))\n",
    "m = np.log(mST)-s**2/2\n",
    "\n",
    "plt.plot(s1, np.exp(-(np.log(s1) - m)**2/2/s**2)/s/np.sqrt(2*np.pi)/s1, color='red')\n",
    "plt.show()\n"
   ]
  }
 ],
 "metadata": {
  "kernelspec": {
   "display_name": "ml-dev",
   "language": "python",
   "name": "python3"
  },
  "language_info": {
   "codemirror_mode": {
    "name": "ipython",
    "version": 3
   },
   "file_extension": ".py",
   "mimetype": "text/x-python",
   "name": "python",
   "nbconvert_exporter": "python",
   "pygments_lexer": "ipython3",
   "version": "3.9.15"
  },
  "orig_nbformat": 4,
  "vscode": {
   "interpreter": {
    "hash": "f0a3132ce7e391e70b47609c2d99089405178e77c9e5a202c09cb6ea3d450911"
   }
  }
 },
 "nbformat": 4,
 "nbformat_minor": 2
}
