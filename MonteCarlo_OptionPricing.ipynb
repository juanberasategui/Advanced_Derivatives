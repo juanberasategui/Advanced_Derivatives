{
 "cells": [
  {
   "attachments": {},
   "cell_type": "markdown",
   "metadata": {},
   "source": [
    "EULER SCHEME: GEOMETRIC WIENER PROCESS"
   ]
  },
  {
   "attachments": {},
   "cell_type": "markdown",
   "metadata": {},
   "source": [
    "Import packages"
   ]
  },
  {
   "cell_type": "code",
   "execution_count": 1,
   "metadata": {},
   "outputs": [],
   "source": [
    "import numpy as np\n",
    "import matplotlib.pyplot as plt"
   ]
  },
  {
   "attachments": {},
   "cell_type": "markdown",
   "metadata": {},
   "source": [
    "Set random seed"
   ]
  },
  {
   "cell_type": "code",
   "execution_count": 144,
   "metadata": {},
   "outputs": [],
   "source": [
    "np.random.seed(1)"
   ]
  },
  {
   "attachments": {},
   "cell_type": "markdown",
   "metadata": {},
   "source": [
    "Set main variables"
   ]
  },
  {
   "cell_type": "code",
   "execution_count": 61,
   "metadata": {},
   "outputs": [],
   "source": [
    "S0 = 12 # initial price\n",
    "r = 0.02 # risk-free rate\n",
    "v = 0.3 # volatility\n",
    "T = 0.65 # maturity\n",
    "M = 365 # number of time steps\n",
    "rd = np.exp(-r*T) # riskless discount factor\n",
    "dt = T/(M-1) # time step"
   ]
  },
  {
   "attachments": {},
   "cell_type": "markdown",
   "metadata": {},
   "source": [
    "Defining Euler scheme function"
   ]
  },
  {
   "cell_type": "code",
   "execution_count": 176,
   "metadata": {},
   "outputs": [],
   "source": [
    "def euler(S0, r, v, T, M):\n",
    "    dt = T/(M-1)\n",
    "    u = np.random.normal(size=M+1)\n",
    "    Z = [S0]\n",
    "    for m in range(1,M):\n",
    "        Z.append(Z[m-1]+r*Z[m-1]*dt+v*Z[m-1]*np.sqrt(dt)*u[m+1])\n",
    "    return Z"
   ]
  },
  {
   "cell_type": "code",
   "execution_count": 68,
   "metadata": {},
   "outputs": [
    {
     "data": {
      "image/png": "[encoded data removed]",
      "text/plain": [
       "<Figure size 432x288 with 1 Axes>"
      ]
     },
     "metadata": {
      "needs_background": "light"
     },
     "output_type": "display_data"
    }
   ],
   "source": [
    "t = np.arange(0, T+dt, dt) # time grid\n",
    "plt.plot(t, euler(S0, r,v,T,M,1))\n",
    "plt.xlabel('t')\n",
    "plt.ylabel('S(t)')\n",
    "plt.show()"
   ]
  },
  {
   "attachments": {},
   "cell_type": "markdown",
   "metadata": {},
   "source": [
    "MONTECARLO SIMULATION WITH EULER SCHEME FOR PRICING OF AN EUROPEAN PUT OPTION"
   ]
  },
  {
   "attachments": {},
   "cell_type": "markdown",
   "metadata": {},
   "source": [
    "Variables"
   ]
  },
  {
   "cell_type": "code",
   "execution_count": 175,
   "metadata": {},
   "outputs": [],
   "source": [
    "s0 = 12\n",
    "r = 0.02\n",
    "v = 0.3\n",
    "T = 0.65\n",
    "M = 100\n",
    "N = 50000\n",
    "K = 13\n",
    "rd = np.exp(-r*T) # riskless discount factor\n"
   ]
  },
  {
   "cell_type": "code",
   "execution_count": 177,
   "metadata": {},
   "outputs": [],
   "source": [
    "def monte_carlo(S0, r, v, T, M, N):\n",
    "    expected_value = 0\n",
    "    payoffs= []\n",
    "    for i in range(N):\n",
    "        Z = euler(S0, r, v, T, M)\n",
    "        payoff = (rd*max(0,K-Z[-1]))\n",
    "        expected_value += payoff\n",
    "        payoffs.append(payoff)\n",
    "    P0 = round(expected_value/N,4)\n",
    "    pSE = round(np.std(payoffs)/np.sqrt(N),4)\n",
    "    pUCI = round(P0 + 1.96*pSE,4)\n",
    "    pLCI = round(P0 - 1.96*pSE,4)\n",
    "\n",
    "    return P0, pSE, pUCI, pLCI "
   ]
  },
  {
   "cell_type": "code",
   "execution_count": 178,
   "metadata": {},
   "outputs": [
    {
     "data": {
      "text/plain": [
       "(1.669, 0.0079, 1.6845, 1.6535)"
      ]
     },
     "execution_count": 178,
     "metadata": {},
     "output_type": "execute_result"
    }
   ],
   "source": [
    "monte_carlo(S0, r, v, T, M, N)"
   ]
  },
  {
   "cell_type": "code",
   "execution_count": 160,
   "metadata": {},
   "outputs": [
    {
     "name": "stdout",
     "output_type": "stream",
     "text": [
      "The price of the option is:  1.6185 with a standard error of:  0.0175 and a 95% confidence interval of:  1.5842 to 1.6528\n"
     ]
    }
   ],
   "source": [
    "pv,stardard_eror,upper_CI, lower_CI =monte_carlo(S0, r, v, T, M, N)\n",
    "\n",
    "print('The price of the option is: ', pv, 'with a standard error of: ', stardard_eror, 'and a 95% confidence interval of: ', lower_CI, 'to', upper_CI)"
   ]
  }
 ],
 "metadata": {
  "kernelspec": {
   "display_name": "ml-dev",
   "language": "python",
   "name": "python3"
  },
  "language_info": {
   "codemirror_mode": {
    "name": "ipython",
    "version": 3
   },
   "file_extension": ".py",
   "mimetype": "text/x-python",
   "name": "python",
   "nbconvert_exporter": "python",
   "pygments_lexer": "ipython3",
   "version": "3.9.15"
  },
  "orig_nbformat": 4,
  "vscode": {
   "interpreter": {
    "hash": "f0a3132ce7e391e70b47609c2d99089405178e77c9e5a202c09cb6ea3d450911"
   }
  }
 },
 "nbformat": 4,
 "nbformat_minor": 2
}
