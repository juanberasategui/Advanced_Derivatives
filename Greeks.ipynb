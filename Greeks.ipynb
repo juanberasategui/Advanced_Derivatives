{
 "cells": [
  {
   "attachments": {},
   "cell_type": "markdown",
   "metadata": {},
   "source": [
    "The Greeks are financial measures for risk management in derivartives"
   ]
  },
  {
   "cell_type": "code",
   "execution_count": 16,
   "metadata": {},
   "outputs": [],
   "source": [
    "import numpy as np\n",
    "from scipy.stats import norm\n",
    "import math"
   ]
  },
  {
   "cell_type": "code",
   "execution_count": 13,
   "metadata": {},
   "outputs": [],
   "source": [
    "#set seed\n",
    "np.random.seed(12)"
   ]
  },
  {
   "attachments": {},
   "cell_type": "markdown",
   "metadata": {},
   "source": [
    "Delta is the rate of change of the option price with respect to the underlying asset price"
   ]
  },
  {
   "cell_type": "code",
   "execution_count": 24,
   "metadata": {},
   "outputs": [],
   "source": [
    "#Analytical Delta using BSM\n",
    "def BSMDelta(S,K,r,sigma,T):\n",
    "    #x is the ratio S/K (in-the-money-ness)\n",
    "    #S is the stock price\n",
    "    #K is the strike price\n",
    "    d = (math.log(S/K) + (r +sigma**2/2)*T)/(sigma*np.sqrt(T))\n",
    "    return norm.cdf(d)"
   ]
  },
  {
   "cell_type": "code",
   "execution_count": 25,
   "metadata": {},
   "outputs": [
    {
     "data": {
      "text/plain": [
       "0.7265178872473422"
      ]
     },
     "execution_count": 25,
     "metadata": {},
     "output_type": "execute_result"
    }
   ],
   "source": [
    "BSMDelta(100,90,0.05,0.4,0.5)"
   ]
  },
  {
   "attachments": {},
   "cell_type": "markdown",
   "metadata": {},
   "source": [
    "Gamma is the rate of change of the delta with respect to the underlying asset price"
   ]
  },
  {
   "cell_type": "code",
   "execution_count": 34,
   "metadata": {},
   "outputs": [],
   "source": [
    "#Analytical Gamma using BSM\n",
    "def BSMGamma(x,r,sigma,T):\n",
    "    d = (np.log(x) + (r +sigma**2/2)*T)/(sigma*np.sqrt(T))\n",
    "    return norm.pdf(d)/(x*sigma*np.sqrt(T))"
   ]
  },
  {
   "cell_type": "code",
   "execution_count": 35,
   "metadata": {},
   "outputs": [
    {
     "data": {
      "text/plain": [
       "0.9132454269451096"
      ]
     },
     "execution_count": 35,
     "metadata": {},
     "output_type": "execute_result"
    }
   ],
   "source": [
    "BSMGamma(1,0.05,0.2,1)"
   ]
  },
  {
   "attachments": {},
   "cell_type": "markdown",
   "metadata": {},
   "source": [
    "Vega is the rate of change of the option price with respect to the volatility of the underlying asset"
   ]
  },
  {
   "cell_type": "code",
   "execution_count": 37,
   "metadata": {},
   "outputs": [],
   "source": [
    "#Analytical Vega using BSM\n",
    "def BSMVega(x,r,sigma,T):\n",
    "    d = (np.log(x) + (r +sigma**2/2)*T)/(sigma*np.sqrt(T))\n",
    "    return (x*norm.pdf(d)*np.sqrt(T))"
   ]
  },
  {
   "cell_type": "code",
   "execution_count": 38,
   "metadata": {},
   "outputs": [
    {
     "data": {
      "text/plain": [
       "0.18264908538902191"
      ]
     },
     "execution_count": 38,
     "metadata": {},
     "output_type": "execute_result"
    }
   ],
   "source": [
    "BSMVega(1,0.05,0.2,1)"
   ]
  },
  {
   "attachments": {},
   "cell_type": "markdown",
   "metadata": {},
   "source": [
    "Theta is the rate of change of the option price with respect to the time to maturity"
   ]
  },
  {
   "cell_type": "code",
   "execution_count": 39,
   "metadata": {},
   "outputs": [],
   "source": [
    "#Analytical Rho using BSM\n",
    "def BSMTheta(x,K,r,sigma,T):\n",
    "    d1 = (np.log(x/K) + (r +sigma**2/2)*T)/(sigma*np.sqrt(T))\n",
    "    d2 = d1 - sigma*np.sqrt(T)\n",
    "    return -x*norm.pdf(d1)*sigma/(2*np.sqrt(T)) - r*K*np.exp(-r*T)*norm.cdf(d2)"
   ]
  },
  {
   "cell_type": "code",
   "execution_count": 40,
   "metadata": {},
   "outputs": [
    {
     "data": {
      "text/plain": [
       "-0.05884154697997983"
      ]
     },
     "execution_count": 40,
     "metadata": {},
     "output_type": "execute_result"
    }
   ],
   "source": [
    "BSMTheta(1,1,0.05,0.2,1) #We expect it to be negative"
   ]
  },
  {
   "attachments": {},
   "cell_type": "markdown",
   "metadata": {},
   "source": [
    "Above we calculated the Greeks in an analytical way. We can also calculate them numerically. We will use the Black-Scholes formula to calculate the option price and then use the finite difference method to calculate the Greeks."
   ]
  },
  {
   "cell_type": "code",
   "execution_count": null,
   "metadata": {},
   "outputs": [],
   "source": [
    "#This is the Delta for a call\n",
    "def NumericDelta(S,K,sigma,r,T,h): \n",
    "    d = (np.log(S/K) + (r +sigma**2/2)*T)/sigma/np.sqrt(T)\n",
    "    N1 = norm.cdf(d)\n",
    "    N2 = norm.cdf(d-sigma*np.sqrt(T))\n",
    "    c = S*N1-K*np.exp(-r*T)*N2\n",
    "    h = 1 #arbitrary low economic value relative to S\n",
    "\n",
    "    dh = (np.log((S+h)/K) + (r+sigma**2/2)*T)/sigma/np.sqrt(T)\n",
    "    N1h = norm.cdf(dh)\n",
    "    N2h = norm.cdf(dh-sigma*np.sqrt(T))\n",
    "    ch = (S+h)*N1h-K*np.exp(-r*T)*N2h\n",
    "    return (ch-c)/h"
   ]
  }
 ],
 "metadata": {
  "kernelspec": {
   "display_name": "ml-dev",
   "language": "python",
   "name": "python3"
  },
  "language_info": {
   "codemirror_mode": {
    "name": "ipython",
    "version": 3
   },
   "file_extension": ".py",
   "mimetype": "text/x-python",
   "name": "python",
   "nbconvert_exporter": "python",
   "pygments_lexer": "ipython3",
   "version": "3.9.15"
  },
  "orig_nbformat": 4
 },
 "nbformat": 4,
 "nbformat_minor": 2
}
