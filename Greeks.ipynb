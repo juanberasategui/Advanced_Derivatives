{
 "cells": [
  {
   "attachments": {},
   "cell_type": "markdown",
   "metadata": {},
   "source": [
    "The Greeks are financial measures for risk management in derivartives"
   ]
  },
  {
   "cell_type": "code",
   "execution_count": 6,
   "metadata": {},
   "outputs": [],
   "source": [
    "import numpy as np\n",
    "from scipy.stats import norm"
   ]
  },
  {
   "attachments": {},
   "cell_type": "markdown",
   "metadata": {},
   "source": [
    "Delta is the rate of change of the option price with respect to the underlying asset price"
   ]
  },
  {
   "cell_type": "code",
   "execution_count": 21,
   "metadata": {},
   "outputs": [],
   "source": [
    "#Analytical Delta using BSM\n",
    "def Delta(x,r,sigma,T):\n",
    "    #x is the ratio S/K (in-the-money-ness)\n",
    "    #S is the stock price\n",
    "    #K is the strike price\n",
    "    d = (np.log(x) + (r +sigma**(2/2))*T)/(sigma*np.sqrt(T))\n",
    "    return norm.cdf(d)"
   ]
  },
  {
   "cell_type": "code",
   "execution_count": 24,
   "metadata": {},
   "outputs": [
    {
     "data": {
      "text/plain": [
       "0.8943502263331446"
      ]
     },
     "execution_count": 24,
     "metadata": {},
     "output_type": "execute_result"
    }
   ],
   "source": [
    "Delta(1,0.05,0.2,1)"
   ]
  },
  {
   "cell_type": "markdown",
   "metadata": {},
   "source": []
  },
  {
   "cell_type": "code",
   "execution_count": 34,
   "metadata": {},
   "outputs": [],
   "source": [
    "def Gamma(x,r,sigma,T):\n",
    "    d = (np.log(x) + (r +sigma**(2/2))*T)/(sigma*np.sqrt(T))\n",
    "    return norm.pdf(d)/(x*sigma*np.sqrt(T))"
   ]
  },
  {
   "attachments": {},
   "cell_type": "markdown",
   "metadata": {},
   "source": [
    "Vega is the rate of change of the option price with respect to the volatility of the underlying asset"
   ]
  },
  {
   "cell_type": "code",
   "execution_count": 25,
   "metadata": {},
   "outputs": [],
   "source": [
    "#Analytical Vega using BSM\n",
    "def Vega(x,K,r,sigma,T):\n",
    "    d = (np.log(x) + (r +sigma**(2/2))*T)/(sigma*np.sqrt(T))\n",
    "    return (x*K*norm.pdf(d)*np.sqrt(T))"
   ]
  },
  {
   "cell_type": "code",
   "execution_count": 33,
   "metadata": {},
   "outputs": [
    {
     "data": {
      "text/plain": [
       "1.8264908538902191"
      ]
     },
     "execution_count": 33,
     "metadata": {},
     "output_type": "execute_result"
    }
   ],
   "source": [
    "Vega(1,10,0.05,0.2,1)"
   ]
  }
 ],
 "metadata": {
  "kernelspec": {
   "display_name": "ml-dev",
   "language": "python",
   "name": "python3"
  },
  "language_info": {
   "codemirror_mode": {
    "name": "ipython",
    "version": 3
   },
   "file_extension": ".py",
   "mimetype": "text/x-python",
   "name": "python",
   "nbconvert_exporter": "python",
   "pygments_lexer": "ipython3",
   "version": "3.9.15"
  },
  "orig_nbformat": 4
 },
 "nbformat": 4,
 "nbformat_minor": 2
}
